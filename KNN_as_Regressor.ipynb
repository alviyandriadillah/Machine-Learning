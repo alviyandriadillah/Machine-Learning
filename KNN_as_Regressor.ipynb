{
  "nbformat": 4,
  "nbformat_minor": 0,
  "metadata": {
    "colab": {
      "name": "KNN as Regressor",
      "provenance": [],
      "authorship_tag": "ABX9TyP8QwmaBRqw4K9Su0drR6NL",
      "include_colab_link": true
    },
    "kernelspec": {
      "name": "python3",
      "display_name": "Python 3"
    },
    "language_info": {
      "name": "python"
    }
  },
  "cells": [
    {
      "cell_type": "markdown",
      "metadata": {
        "id": "view-in-github",
        "colab_type": "text"
      },
      "source": [
        "<a href=\"https://colab.research.google.com/github/alviyandriadillah/Machine-Learning/blob/main/KNN_as_Regressor.ipynb\" target=\"_parent\"><img src=\"https://colab.research.google.com/assets/colab-badge.svg\" alt=\"Open In Colab\"/></a>"
      ]
    },
    {
      "cell_type": "markdown",
      "metadata": {
        "id": "nmJiv0CwCWG8"
      },
      "source": [
        "**Import Python Packages**"
      ]
    },
    {
      "cell_type": "code",
      "metadata": {
        "id": "uLPK6NaFCRT5"
      },
      "source": [
        "import numpy as np\n",
        "import pandas as pd"
      ],
      "execution_count": 1,
      "outputs": []
    },
    {
      "cell_type": "markdown",
      "metadata": {
        "id": "ZtTDUxMnCcSL"
      },
      "source": [
        "**Download Iris Dataset**"
      ]
    },
    {
      "cell_type": "code",
      "metadata": {
        "id": "1U5hA4yeCeFT"
      },
      "source": [
        "path = \"https://archive.ics.uci.edu/ml/machine-learning-databases/iris/iris.data\""
      ],
      "execution_count": 2,
      "outputs": []
    },
    {
      "cell_type": "markdown",
      "metadata": {
        "id": "rFjfzhX2ClJt"
      },
      "source": [
        "**assign column names to the dataset**"
      ]
    },
    {
      "cell_type": "code",
      "metadata": {
        "id": "xF3VyjVNCfPj"
      },
      "source": [
        "headernames = ['sepal-length', 'sepal-width', 'petal-length', 'petal-width', 'Class']"
      ],
      "execution_count": 3,
      "outputs": []
    },
    {
      "cell_type": "markdown",
      "metadata": {
        "id": "OmYjH3N8C2Nz"
      },
      "source": [
        "**Read Dataset**"
      ]
    },
    {
      "cell_type": "code",
      "metadata": {
        "id": "qy5QWf6KCoWc"
      },
      "source": [
        "data = pd.read_csv(\"https://archive.ics.uci.edu/ml/machine-learning-databases/iris/iris.data\", names = headernames)\n",
        "array = data.values\n",
        "X = array[:,:2]\n",
        "Y = array[:,2]\n",
        "data.shape\n",
        "output:(150, 5)"
      ],
      "execution_count": 6,
      "outputs": []
    },
    {
      "cell_type": "markdown",
      "metadata": {
        "id": "tkkl89jODCt0"
      },
      "source": [
        "**import KNeighborsRegressor from sklearn to fit the model**"
      ]
    },
    {
      "cell_type": "code",
      "metadata": {
        "colab": {
          "base_uri": "https://localhost:8080/"
        },
        "id": "VpmQLwjWC5kT",
        "outputId": "ddfc265c-f252-4450-fd7e-be4ecabc12b2"
      },
      "source": [
        "from sklearn.neighbors import KNeighborsRegressor\n",
        "knnr = KNeighborsRegressor(n_neighbors = 10)\n",
        "knnr.fit(X, Y)"
      ],
      "execution_count": 9,
      "outputs": [
        {
          "output_type": "execute_result",
          "data": {
            "text/plain": [
              "KNeighborsRegressor(algorithm='auto', leaf_size=30, metric='minkowski',\n",
              "                    metric_params=None, n_jobs=None, n_neighbors=10, p=2,\n",
              "                    weights='uniform')"
            ]
          },
          "metadata": {},
          "execution_count": 9
        }
      ]
    },
    {
      "cell_type": "markdown",
      "metadata": {
        "id": "hlV1utyBDOlb"
      },
      "source": [
        "**Find MSE**"
      ]
    },
    {
      "cell_type": "code",
      "metadata": {
        "colab": {
          "base_uri": "https://localhost:8080/"
        },
        "id": "HwW6LkB7DH3t",
        "outputId": "752d2ef9-b8f5-47f4-f1fe-cc3205bced9f"
      },
      "source": [
        "print (\"The MSE is:\",format(np.power(Y-knnr.predict(X),2).mean()))"
      ],
      "execution_count": 11,
      "outputs": [
        {
          "output_type": "stream",
          "name": "stdout",
          "text": [
            "The MSE is: 0.17034733333333335\n"
          ]
        }
      ]
    }
  ]
}